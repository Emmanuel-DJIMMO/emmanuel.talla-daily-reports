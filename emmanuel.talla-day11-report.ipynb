{
 "cells": [
  {
   "cell_type": "markdown",
   "id": "946dcae8",
   "metadata": {},
   "source": [
    "# Practical_6: Numpy"
   ]
  },
  {
   "cell_type": "markdown",
   "id": "80d02636-8448-49c8-a94d-a0cbc60085e0",
   "metadata": {},
   "source": [
    "---"
   ]
  },
  {
   "cell_type": "markdown",
   "id": "054fc69d-0d44-4100-8686-29bbaff2d442",
   "metadata": {},
   "source": [
    "### Exercise 1:\n",
    "Create a NumPy array of integers from 1 to 10."
   ]
  },
  {
   "cell_type": "code",
   "execution_count": 4,
   "id": "83e38fb6-5784-4baa-81d1-de2917caaf8d",
   "metadata": {},
   "outputs": [],
   "source": [
    "import numpy as np"
   ]
  },
  {
   "cell_type": "code",
   "execution_count": 5,
   "id": "3a81bbeb-5c5f-4f88-a7ca-b1776360535b",
   "metadata": {},
   "outputs": [
    {
     "name": "stdout",
     "output_type": "stream",
     "text": [
      "[ 1  2  3  4  5  6  7  8  9 10]\n",
      "[ 1  2  3  4  5  6  7  8  9 10]\n"
     ]
    }
   ],
   "source": [
    "w = np.array([1, 2, 3, 4, 5, 6, 7, 8, 9, 10])\n",
    "print(w)\n",
    "\n",
    "v = np.arange(1, 11)\n",
    "print(v)\n"
   ]
  },
  {
   "cell_type": "markdown",
   "id": "cf91a974-8d98-4f5d-b60a-39e9187aebd1",
   "metadata": {},
   "source": [
    "### Exercise 2:\n",
    "Create a 3x3 NumPy array filled with zeros."
   ]
  },
  {
   "cell_type": "code",
   "execution_count": 7,
   "id": "39365d46-df26-4128-b52b-40ac488b8043",
   "metadata": {},
   "outputs": [
    {
     "name": "stdout",
     "output_type": "stream",
     "text": [
      "[[0 0 0]\n",
      " [0 0 0]\n",
      " [0 0 0]]\n"
     ]
    }
   ],
   "source": [
    "c = np.array([[0, 0, 0], [0, 0, 0], [0, 0, 0]])\n",
    "print(c)\n"
   ]
  },
  {
   "cell_type": "markdown",
   "id": "34af2e9e-16f7-4e74-b43d-8490c14c5742",
   "metadata": {},
   "source": [
    "### Exercise 3:\n",
    "Create a NumPy array of 10 evenly spaced numbers between 0 and 5."
   ]
  },
  {
   "cell_type": "code",
   "execution_count": 9,
   "id": "cfc0d095-bb65-4ef3-97b7-9caeebfdd8d2",
   "metadata": {},
   "outputs": [
    {
     "data": {
      "text/plain": [
       "array([0. , 0.5, 1. , 1.5, 2. , 2.5, 3. , 3.5, 4. , 4.5])"
      ]
     },
     "execution_count": 9,
     "metadata": {},
     "output_type": "execute_result"
    }
   ],
   "source": [
    "a = np.linspace(0,5,10, endpoint= False)\n",
    "a"
   ]
  },
  {
   "cell_type": "markdown",
   "id": "4790b0c5-b58a-4b76-a4e1-3d2805d9e47b",
   "metadata": {},
   "source": [
    "### Exercise 4:\n",
    "Create a 5x5 identity matrix using NumPy."
   ]
  },
  {
   "cell_type": "code",
   "execution_count": 11,
   "id": "2a3db25d-d872-4c0a-963f-6f37cd9dbdd0",
   "metadata": {},
   "outputs": [
    {
     "name": "stdout",
     "output_type": "stream",
     "text": [
      "[[1. 0. 0. 0. 0.]\n",
      " [0. 1. 0. 0. 0.]\n",
      " [0. 0. 1. 0. 0.]\n",
      " [0. 0. 0. 1. 0.]\n",
      " [0. 0. 0. 0. 1.]]\n"
     ]
    }
   ],
   "source": [
    "c = np.identity(5)\n",
    "print(c)"
   ]
  },
  {
   "cell_type": "markdown",
   "id": "dc76c21d-377c-4292-a8c4-a0e9f3487c6c",
   "metadata": {},
   "source": []
  },
  {
   "cell_type": "markdown",
   "id": "8042810d-dbca-4e72-8021-bb77900b8706",
   "metadata": {},
   "source": [
    "### Exercise 5:\n",
    "Create a 4x4 matrix with random values between 0 and 1.\n"
   ]
  },
  {
   "cell_type": "code",
   "execution_count": 14,
   "id": "01c7f877-cbcf-4b4c-90af-56b9368e4093",
   "metadata": {},
   "outputs": [
    {
     "name": "stdout",
     "output_type": "stream",
     "text": [
      "[[0.58189095 0.19949889 0.27761319 0.81369232]\n",
      " [0.18937838 0.00233297 0.13560153 0.14625825]\n",
      " [0.65751474 0.72806143 0.25829423 0.96927809]\n",
      " [0.09898411 0.77096455 0.2642144  0.50411287]]\n"
     ]
    }
   ],
   "source": [
    "d = np.random.rand(4, 4)\n",
    "print(d)"
   ]
  },
  {
   "cell_type": "markdown",
   "id": "036a247f-2494-4ca1-b6cf-22f870625bb9",
   "metadata": {},
   "source": [
    "### Exercise 6:\n",
    "Find the shape of a NumPy array."
   ]
  },
  {
   "cell_type": "code",
   "execution_count": 16,
   "id": "86c292f1-5bf4-4530-8196-4a427abb0234",
   "metadata": {},
   "outputs": [
    {
     "name": "stdout",
     "output_type": "stream",
     "text": [
      "(2, 3)\n"
     ]
    }
   ],
   "source": [
    "array = np.array([[1, 2, 3], [4, 5, 6]])\n",
    "shape = array.shape\n",
    "print(shape)"
   ]
  },
  {
   "cell_type": "markdown",
   "id": "6562ce24-085d-4799-b605-252b17a6d7c2",
   "metadata": {},
   "source": [
    "### Exercise 7:\n",
    "Reshape a 1D NumPy array of 16 elements into a 4x4 matrix."
   ]
  },
  {
   "cell_type": "code",
   "execution_count": 18,
   "id": "13829f50-4e4d-4d01-bd75-3678da4dcd8e",
   "metadata": {},
   "outputs": [
    {
     "name": "stdout",
     "output_type": "stream",
     "text": [
      "[[ 1  2  3  4]\n",
      " [ 5  6  7  8]\n",
      " [ 9 10 11 12]\n",
      " [13 14 15 16]]\n"
     ]
    }
   ],
   "source": [
    "ar = np.arange(1, 17)\n",
    "mat = ar.reshape(4, 4)\n",
    "print(mat)"
   ]
  },
  {
   "cell_type": "markdown",
   "id": "94e22e3e-1ff5-43e3-a352-34637c6c1b5d",
   "metadata": {},
   "source": [
    "### Exercise 8:\n",
    "Find the data type of the elements in a NumPy array."
   ]
  },
  {
   "cell_type": "code",
   "execution_count": 20,
   "id": "e516a947-c07b-4c85-bbef-74602ba1b499",
   "metadata": {},
   "outputs": [
    {
     "name": "stdout",
     "output_type": "stream",
     "text": [
      "int64\n"
     ]
    }
   ],
   "source": [
    "array = np.array([1, 2, 3, 4])\n",
    "data_type = array.dtype\n",
    "print(data_type)"
   ]
  },
  {
   "cell_type": "markdown",
   "id": "e0a49a2f-bbf5-4c38-94ed-30fa9c73b2bf",
   "metadata": {},
   "source": [
    "### Exercise 9:\n",
    "Create a NumPy array of integers from 1 to 100 and find all even numbers in the array."
   ]
  },
  {
   "cell_type": "code",
   "execution_count": 22,
   "id": "9fe82704-bf30-4544-85d7-f2e8a71477b1",
   "metadata": {},
   "outputs": [
    {
     "name": "stdout",
     "output_type": "stream",
     "text": [
      "[2, 4, 6, 8, 10, 12, 14, 16, 18, 20, 22, 24, 26, 28, 30, 32, 34, 36, 38, 40, 42, 44, 46, 48, 50, 52, 54, 56, 58, 60, 62, 64, 66, 68, 70, 72, 74, 76, 78, 80, 82, 84, 86, 88, 90, 92, 94, 96, 98]\n"
     ]
    }
   ],
   "source": [
    "arr = np.arange(1, 100)\n",
    "o = [i for i in arr if i % 2 == 0]\n",
    "print(o)"
   ]
  },
  {
   "cell_type": "markdown",
   "id": "a7bb62f9-63a1-4971-a032-c0b013091cae",
   "metadata": {},
   "source": [
    "### Exercise 10:\n",
    "Generate a 6x6 matrix of random integers between 10 and 50."
   ]
  },
  {
   "cell_type": "code",
   "execution_count": 24,
   "id": "025c4ca1-d240-4118-a123-7c5bf68e3e4f",
   "metadata": {},
   "outputs": [
    {
     "data": {
      "text/plain": [
       "array([[13, 27, 49, 16, 46, 40],\n",
       "       [49, 36, 37, 21, 11, 49],\n",
       "       [33, 13, 11, 49, 28, 42],\n",
       "       [41, 30, 45, 17, 12, 46],\n",
       "       [49, 31, 16, 38, 35, 49],\n",
       "       [46, 25, 42, 16, 19, 47]])"
      ]
     },
     "execution_count": 24,
     "metadata": {},
     "output_type": "execute_result"
    }
   ],
   "source": [
    "q = np.random.randint(10, 50, (6, 6))\n",
    "q"
   ]
  },
  {
   "cell_type": "markdown",
   "id": "81e06952-dbbe-4cfd-9644-211c4f1e0cd4",
   "metadata": {},
   "source": [
    "### Exercise 11:\n",
    "Slice a 2D NumPy array to extract a submatrix."
   ]
  },
  {
   "cell_type": "code",
   "execution_count": 26,
   "id": "20498d03-e4cb-4a22-96f7-81a0bfdcbd66",
   "metadata": {},
   "outputs": [
    {
     "name": "stdout",
     "output_type": "stream",
     "text": [
      "Tableau d :\n",
      "[[2 3 4]\n",
      " [4 6 7]]\n",
      "[[2 4]\n",
      " [3 6]]\n",
      "Élément (ligne 1, colonne 2) : 7\n"
     ]
    }
   ],
   "source": [
    "d = np.array([[2, 3, 4], [4, 6, 7]])\n",
    "\n",
    "# Obtenir la première ligne\n",
    "premiere_ligne = d[0]\n",
    "n1 = d[:, 0]\n",
    "n2 = d[:, 1]\n",
    "g = np.array([n1, n2])\n",
    "# Obtenir un élément spécifique (ligne 1, colonne 2)\n",
    "element = d[1, 2]\n",
    "\n",
    "# Afficher les résultats\n",
    "print(\"Tableau d :\")\n",
    "print(d)\n",
    "print(g)\n",
    "print(\"Élément (ligne 1, colonne 2) :\", element)"
   ]
  },
  {
   "cell_type": "markdown",
   "id": "36091441-19dc-476c-becd-d8154ecf916e",
   "metadata": {},
   "source": [
    "### Exercise 12:\n",
    "Calculate the sum of all elements in a NumPy array."
   ]
  },
  {
   "cell_type": "code",
   "execution_count": 28,
   "id": "8af7acc4-b174-4432-b98f-284f56827808",
   "metadata": {},
   "outputs": [
    {
     "name": "stdout",
     "output_type": "stream",
     "text": [
      "[[8 8 9 8 9 9 9 8]\n",
      " [8 9 8 8 9 8 8 8]\n",
      " [9 9 9 8 8 9 8 8]\n",
      " [8 9 8 8 9 9 8 9]\n",
      " [9 9 9 8 8 8 9 9]\n",
      " [9 8 9 9 8 8 8 8]]\n"
     ]
    },
    {
     "data": {
      "text/plain": [
       "array([51, 52, 52, 49, 51, 51, 50, 50])"
      ]
     },
     "execution_count": 28,
     "metadata": {},
     "output_type": "execute_result"
    }
   ],
   "source": [
    "m = np.random.randint(8, 10, (6, 8))\n",
    "print(m)\n",
    "l = np.sum(m, axis=0)\n",
    "l"
   ]
  },
  {
   "cell_type": "code",
   "execution_count": 29,
   "id": "7af280b2-f0f8-41af-a460-97d9d63fc110",
   "metadata": {},
   "outputs": [
    {
     "name": "stdout",
     "output_type": "stream",
     "text": [
      "Help on _ArrayFunctionDispatcher in module numpy:\n",
      "\n",
      "sum(a, axis=None, dtype=None, out=None, keepdims=<no value>, initial=<no value>, where=<no value>)\n",
      "    Sum of array elements over a given axis.\n",
      "\n",
      "    Parameters\n",
      "    ----------\n",
      "    a : array_like\n",
      "        Elements to sum.\n",
      "    axis : None or int or tuple of ints, optional\n",
      "        Axis or axes along which a sum is performed.  The default,\n",
      "        axis=None, will sum all of the elements of the input array.  If\n",
      "        axis is negative it counts from the last to the first axis.\n",
      "\n",
      "        .. versionadded:: 1.7.0\n",
      "\n",
      "        If axis is a tuple of ints, a sum is performed on all of the axes\n",
      "        specified in the tuple instead of a single axis or all the axes as\n",
      "        before.\n",
      "    dtype : dtype, optional\n",
      "        The type of the returned array and of the accumulator in which the\n",
      "        elements are summed.  The dtype of `a` is used by default unless `a`\n",
      "        has an integer dtype of less precision than the default platform\n",
      "        integer.  In that case, if `a` is signed then the platform integer\n",
      "        is used while if `a` is unsigned then an unsigned integer of the\n",
      "        same precision as the platform integer is used.\n",
      "    out : ndarray, optional\n",
      "        Alternative output array in which to place the result. It must have\n",
      "        the same shape as the expected output, but the type of the output\n",
      "        values will be cast if necessary.\n",
      "    keepdims : bool, optional\n",
      "        If this is set to True, the axes which are reduced are left\n",
      "        in the result as dimensions with size one. With this option,\n",
      "        the result will broadcast correctly against the input array.\n",
      "\n",
      "        If the default value is passed, then `keepdims` will not be\n",
      "        passed through to the `sum` method of sub-classes of\n",
      "        `ndarray`, however any non-default value will be.  If the\n",
      "        sub-class' method does not implement `keepdims` any\n",
      "        exceptions will be raised.\n",
      "    initial : scalar, optional\n",
      "        Starting value for the sum. See `~numpy.ufunc.reduce` for details.\n",
      "\n",
      "        .. versionadded:: 1.15.0\n",
      "\n",
      "    where : array_like of bool, optional\n",
      "        Elements to include in the sum. See `~numpy.ufunc.reduce` for details.\n",
      "\n",
      "        .. versionadded:: 1.17.0\n",
      "\n",
      "    Returns\n",
      "    -------\n",
      "    sum_along_axis : ndarray\n",
      "        An array with the same shape as `a`, with the specified\n",
      "        axis removed.   If `a` is a 0-d array, or if `axis` is None, a scalar\n",
      "        is returned.  If an output array is specified, a reference to\n",
      "        `out` is returned.\n",
      "\n",
      "    See Also\n",
      "    --------\n",
      "    ndarray.sum : Equivalent method.\n",
      "\n",
      "    add.reduce : Equivalent functionality of `add`.\n",
      "\n",
      "    cumsum : Cumulative sum of array elements.\n",
      "\n",
      "    trapz : Integration of array values using the composite trapezoidal rule.\n",
      "\n",
      "    mean, average\n",
      "\n",
      "    Notes\n",
      "    -----\n",
      "    Arithmetic is modular when using integer types, and no error is\n",
      "    raised on overflow.\n",
      "\n",
      "    The sum of an empty array is the neutral element 0:\n",
      "\n",
      "    >>> np.sum([])\n",
      "    0.0\n",
      "\n",
      "    For floating point numbers the numerical precision of sum (and\n",
      "    ``np.add.reduce``) is in general limited by directly adding each number\n",
      "    individually to the result causing rounding errors in every step.\n",
      "    However, often numpy will use a  numerically better approach (partial\n",
      "    pairwise summation) leading to improved precision in many use-cases.\n",
      "    This improved precision is always provided when no ``axis`` is given.\n",
      "    When ``axis`` is given, it will depend on which axis is summed.\n",
      "    Technically, to provide the best speed possible, the improved precision\n",
      "    is only used when the summation is along the fast axis in memory.\n",
      "    Note that the exact precision may vary depending on other parameters.\n",
      "    In contrast to NumPy, Python's ``math.fsum`` function uses a slower but\n",
      "    more precise approach to summation.\n",
      "    Especially when summing a large number of lower precision floating point\n",
      "    numbers, such as ``float32``, numerical errors can become significant.\n",
      "    In such cases it can be advisable to use `dtype=\"float64\"` to use a higher\n",
      "    precision for the output.\n",
      "\n",
      "    Examples\n",
      "    --------\n",
      "    >>> np.sum([0.5, 1.5])\n",
      "    2.0\n",
      "    >>> np.sum([0.5, 0.7, 0.2, 1.5], dtype=np.int32)\n",
      "    1\n",
      "    >>> np.sum([[0, 1], [0, 5]])\n",
      "    6\n",
      "    >>> np.sum([[0, 1], [0, 5]], axis=0)\n",
      "    array([0, 6])\n",
      "    >>> np.sum([[0, 1], [0, 5]], axis=1)\n",
      "    array([1, 5])\n",
      "    >>> np.sum([[0, 1], [np.nan, 5]], where=[False, True], axis=1)\n",
      "    array([1., 5.])\n",
      "\n",
      "    If the accumulator is too small, overflow occurs:\n",
      "\n",
      "    >>> np.ones(128, dtype=np.int8).sum(dtype=np.int8)\n",
      "    -128\n",
      "\n",
      "    You can also start the sum with a value other than zero:\n",
      "\n",
      "    >>> np.sum([10], initial=5)\n",
      "    15\n",
      "\n"
     ]
    }
   ],
   "source": [
    "help(np.sum)"
   ]
  },
  {
   "cell_type": "markdown",
   "id": "c49e54a0-add5-4f97-8d6c-9ee85de6238a",
   "metadata": {},
   "source": [
    "### Exercise 13:\n",
    "Calculate the mean, median, and standard deviation of a NumPy array."
   ]
  },
  {
   "cell_type": "code",
   "execution_count": 31,
   "id": "6c5f75db-6b91-4381-8bc8-cfba7ec834e8",
   "metadata": {},
   "outputs": [
    {
     "name": "stdout",
     "output_type": "stream",
     "text": [
      "[[1. 0. 0. 0. 0. 0. 0. 0. 0.]\n",
      " [0. 1. 0. 0. 0. 0. 0. 0. 0.]\n",
      " [0. 0. 1. 0. 0. 0. 0. 0. 0.]\n",
      " [0. 0. 0. 1. 0. 0. 0. 0. 0.]\n",
      " [0. 0. 0. 0. 1. 0. 0. 0. 0.]\n",
      " [0. 0. 0. 0. 0. 1. 0. 0. 0.]\n",
      " [0. 0. 0. 0. 0. 0. 1. 0. 0.]\n",
      " [0. 0. 0. 0. 0. 0. 0. 1. 0.]\n",
      " [0. 0. 0. 0. 0. 0. 0. 0. 1.]]\n",
      "[0.11111111 0.11111111 0.11111111 0.11111111 0.11111111 0.11111111\n",
      " 0.11111111 0.11111111 0.11111111] [0. 0. 0. 0. 0. 0. 0. 0. 0.] [0.31426968 0.31426968 0.31426968 0.31426968 0.31426968 0.31426968\n",
      " 0.31426968 0.31426968 0.31426968]\n"
     ]
    }
   ],
   "source": [
    "d = np.identity(9)\n",
    "print(d)\n",
    "m1 = np.mean(d, axis= 0)\n",
    "m2 = np.median(d, axis = 0)\n",
    "m3 = np.std(d, axis = 0)\n",
    "print(m1, m2, m3)"
   ]
  },
  {
   "cell_type": "code",
   "execution_count": 32,
   "id": "ca8dbfd8-bc54-4fcb-aa76-3694ed7f2539",
   "metadata": {},
   "outputs": [
    {
     "name": "stdout",
     "output_type": "stream",
     "text": [
      "Help on _ArrayFunctionDispatcher in module numpy:\n",
      "\n",
      "mean(a, axis=None, dtype=None, out=None, keepdims=<no value>, *, where=<no value>)\n",
      "    Compute the arithmetic mean along the specified axis.\n",
      "\n",
      "    Returns the average of the array elements.  The average is taken over\n",
      "    the flattened array by default, otherwise over the specified axis.\n",
      "    `float64` intermediate and return values are used for integer inputs.\n",
      "\n",
      "    Parameters\n",
      "    ----------\n",
      "    a : array_like\n",
      "        Array containing numbers whose mean is desired. If `a` is not an\n",
      "        array, a conversion is attempted.\n",
      "    axis : None or int or tuple of ints, optional\n",
      "        Axis or axes along which the means are computed. The default is to\n",
      "        compute the mean of the flattened array.\n",
      "\n",
      "        .. versionadded:: 1.7.0\n",
      "\n",
      "        If this is a tuple of ints, a mean is performed over multiple axes,\n",
      "        instead of a single axis or all the axes as before.\n",
      "    dtype : data-type, optional\n",
      "        Type to use in computing the mean.  For integer inputs, the default\n",
      "        is `float64`; for floating point inputs, it is the same as the\n",
      "        input dtype.\n",
      "    out : ndarray, optional\n",
      "        Alternate output array in which to place the result.  The default\n",
      "        is ``None``; if provided, it must have the same shape as the\n",
      "        expected output, but the type will be cast if necessary.\n",
      "        See :ref:`ufuncs-output-type` for more details.\n",
      "\n",
      "    keepdims : bool, optional\n",
      "        If this is set to True, the axes which are reduced are left\n",
      "        in the result as dimensions with size one. With this option,\n",
      "        the result will broadcast correctly against the input array.\n",
      "\n",
      "        If the default value is passed, then `keepdims` will not be\n",
      "        passed through to the `mean` method of sub-classes of\n",
      "        `ndarray`, however any non-default value will be.  If the\n",
      "        sub-class' method does not implement `keepdims` any\n",
      "        exceptions will be raised.\n",
      "\n",
      "    where : array_like of bool, optional\n",
      "        Elements to include in the mean. See `~numpy.ufunc.reduce` for details.\n",
      "\n",
      "        .. versionadded:: 1.20.0\n",
      "\n",
      "    Returns\n",
      "    -------\n",
      "    m : ndarray, see dtype parameter above\n",
      "        If `out=None`, returns a new array containing the mean values,\n",
      "        otherwise a reference to the output array is returned.\n",
      "\n",
      "    See Also\n",
      "    --------\n",
      "    average : Weighted average\n",
      "    std, var, nanmean, nanstd, nanvar\n",
      "\n",
      "    Notes\n",
      "    -----\n",
      "    The arithmetic mean is the sum of the elements along the axis divided\n",
      "    by the number of elements.\n",
      "\n",
      "    Note that for floating-point input, the mean is computed using the\n",
      "    same precision the input has.  Depending on the input data, this can\n",
      "    cause the results to be inaccurate, especially for `float32` (see\n",
      "    example below).  Specifying a higher-precision accumulator using the\n",
      "    `dtype` keyword can alleviate this issue.\n",
      "\n",
      "    By default, `float16` results are computed using `float32` intermediates\n",
      "    for extra precision.\n",
      "\n",
      "    Examples\n",
      "    --------\n",
      "    >>> a = np.array([[1, 2], [3, 4]])\n",
      "    >>> np.mean(a)\n",
      "    2.5\n",
      "    >>> np.mean(a, axis=0)\n",
      "    array([2., 3.])\n",
      "    >>> np.mean(a, axis=1)\n",
      "    array([1.5, 3.5])\n",
      "\n",
      "    In single precision, `mean` can be inaccurate:\n",
      "\n",
      "    >>> a = np.zeros((2, 512*512), dtype=np.float32)\n",
      "    >>> a[0, :] = 1.0\n",
      "    >>> a[1, :] = 0.1\n",
      "    >>> np.mean(a)\n",
      "    0.54999924\n",
      "\n",
      "    Computing the mean in float64 is more accurate:\n",
      "\n",
      "    >>> np.mean(a, dtype=np.float64)\n",
      "    0.55000000074505806 # may vary\n",
      "\n",
      "    Specifying a where argument:\n",
      "\n",
      "    >>> a = np.array([[5, 9, 13], [14, 10, 12], [11, 15, 19]])\n",
      "    >>> np.mean(a)\n",
      "    12.0\n",
      "    >>> np.mean(a, where=[[True], [False], [False]])\n",
      "    9.0\n",
      "\n"
     ]
    }
   ],
   "source": [
    "help(np.mean )"
   ]
  },
  {
   "cell_type": "markdown",
   "id": "05dff9e3-cb23-4a47-b6cd-3dbbd9cd0093",
   "metadata": {},
   "source": [
    "### Exercise 14:\n",
    "Find the maximum and minimum values in a NumPy array."
   ]
  },
  {
   "cell_type": "code",
   "execution_count": 34,
   "id": "d0b1195f-1630-4f50-bcfa-07394ae0c787",
   "metadata": {},
   "outputs": [
    {
     "name": "stdout",
     "output_type": "stream",
     "text": [
      "[[27 26 27 26 26]\n",
      " [29 20 16 30 30]\n",
      " [28 20 22 17 28]\n",
      " [25 19 23 24 17]\n",
      " [29 27 26 28 27]\n",
      " [25 27 27 20 17]]\n",
      "30\n",
      "16\n",
      "[29 27 27 30 30]\n",
      "[26 16 17 17 26 17]\n"
     ]
    }
   ],
   "source": [
    "v = np.random.randint(15, 31, (6, 5))\n",
    "v1 = np.max(v)\n",
    "v2 = np.min(v)\n",
    "v3 = np.max(v, axis = 0)\n",
    "v4 = np.min(v, axis = 1)\n",
    "print(v)\n",
    "print(v1)\n",
    "print(v2)\n",
    "print(v3)\n",
    "print(v4)\n"
   ]
  },
  {
   "cell_type": "code",
   "execution_count": 35,
   "id": "2125e702-4b5b-42e6-822f-69d931acc65f",
   "metadata": {},
   "outputs": [
    {
     "name": "stdout",
     "output_type": "stream",
     "text": [
      "Help on _ArrayFunctionDispatcher in module numpy:\n",
      "\n",
      "max(a, axis=None, out=None, keepdims=<no value>, initial=<no value>, where=<no value>)\n",
      "    Return the maximum of an array or maximum along an axis.\n",
      "\n",
      "    Parameters\n",
      "    ----------\n",
      "    a : array_like\n",
      "        Input data.\n",
      "    axis : None or int or tuple of ints, optional\n",
      "        Axis or axes along which to operate.  By default, flattened input is\n",
      "        used.\n",
      "\n",
      "        .. versionadded:: 1.7.0\n",
      "\n",
      "        If this is a tuple of ints, the maximum is selected over multiple axes,\n",
      "        instead of a single axis or all the axes as before.\n",
      "    out : ndarray, optional\n",
      "        Alternative output array in which to place the result.  Must\n",
      "        be of the same shape and buffer length as the expected output.\n",
      "        See :ref:`ufuncs-output-type` for more details.\n",
      "\n",
      "    keepdims : bool, optional\n",
      "        If this is set to True, the axes which are reduced are left\n",
      "        in the result as dimensions with size one. With this option,\n",
      "        the result will broadcast correctly against the input array.\n",
      "\n",
      "        If the default value is passed, then `keepdims` will not be\n",
      "        passed through to the ``max`` method of sub-classes of\n",
      "        `ndarray`, however any non-default value will be.  If the\n",
      "        sub-class' method does not implement `keepdims` any\n",
      "        exceptions will be raised.\n",
      "\n",
      "    initial : scalar, optional\n",
      "        The minimum value of an output element. Must be present to allow\n",
      "        computation on empty slice. See `~numpy.ufunc.reduce` for details.\n",
      "\n",
      "        .. versionadded:: 1.15.0\n",
      "\n",
      "    where : array_like of bool, optional\n",
      "        Elements to compare for the maximum. See `~numpy.ufunc.reduce`\n",
      "        for details.\n",
      "\n",
      "        .. versionadded:: 1.17.0\n",
      "\n",
      "    Returns\n",
      "    -------\n",
      "    max : ndarray or scalar\n",
      "        Maximum of `a`. If `axis` is None, the result is a scalar value.\n",
      "        If `axis` is an int, the result is an array of dimension\n",
      "        ``a.ndim - 1``. If `axis` is a tuple, the result is an array of\n",
      "        dimension ``a.ndim - len(axis)``.\n",
      "\n",
      "    See Also\n",
      "    --------\n",
      "    amin :\n",
      "        The minimum value of an array along a given axis, propagating any NaNs.\n",
      "    nanmax :\n",
      "        The maximum value of an array along a given axis, ignoring any NaNs.\n",
      "    maximum :\n",
      "        Element-wise maximum of two arrays, propagating any NaNs.\n",
      "    fmax :\n",
      "        Element-wise maximum of two arrays, ignoring any NaNs.\n",
      "    argmax :\n",
      "        Return the indices of the maximum values.\n",
      "\n",
      "    nanmin, minimum, fmin\n",
      "\n",
      "    Notes\n",
      "    -----\n",
      "    NaN values are propagated, that is if at least one item is NaN, the\n",
      "    corresponding max value will be NaN as well. To ignore NaN values\n",
      "    (MATLAB behavior), please use nanmax.\n",
      "\n",
      "    Don't use `~numpy.max` for element-wise comparison of 2 arrays; when\n",
      "    ``a.shape[0]`` is 2, ``maximum(a[0], a[1])`` is faster than\n",
      "    ``max(a, axis=0)``.\n",
      "\n",
      "    Examples\n",
      "    --------\n",
      "    >>> a = np.arange(4).reshape((2,2))\n",
      "    >>> a\n",
      "    array([[0, 1],\n",
      "           [2, 3]])\n",
      "    >>> np.max(a)           # Maximum of the flattened array\n",
      "    3\n",
      "    >>> np.max(a, axis=0)   # Maxima along the first axis\n",
      "    array([2, 3])\n",
      "    >>> np.max(a, axis=1)   # Maxima along the second axis\n",
      "    array([1, 3])\n",
      "    >>> np.max(a, where=[False, True], initial=-1, axis=0)\n",
      "    array([-1,  3])\n",
      "    >>> b = np.arange(5, dtype=float)\n",
      "    >>> b[2] = np.NaN\n",
      "    >>> np.max(b)\n",
      "    nan\n",
      "    >>> np.max(b, where=~np.isnan(b), initial=-1)\n",
      "    4.0\n",
      "    >>> np.nanmax(b)\n",
      "    4.0\n",
      "\n",
      "    You can use an initial value to compute the maximum of an empty slice, or\n",
      "    to initialize it to a different value:\n",
      "\n",
      "    >>> np.max([[-50], [10]], axis=-1, initial=0)\n",
      "    array([ 0, 10])\n",
      "\n",
      "    Notice that the initial value is used as one of the elements for which the\n",
      "    maximum is determined, unlike for the default argument Python's max\n",
      "    function, which is only used for empty iterables.\n",
      "\n",
      "    >>> np.max([5], initial=6)\n",
      "    6\n",
      "    >>> max([5], default=6)\n",
      "    5\n",
      "\n"
     ]
    }
   ],
   "source": [
    "help(np.max)"
   ]
  },
  {
   "cell_type": "markdown",
   "id": "10f26c5a-6783-4bc5-b463-db1abca6683d",
   "metadata": {},
   "source": [
    "### Exercise 15:\n",
    "Create a NumPy array of 20 random integers and find the index of the maximum value.\n",
    "\n",
    "```python\n",
    "# Exercise 15\n",
    "```"
   ]
  },
  {
   "cell_type": "code",
   "execution_count": 37,
   "id": "8fdb3eb2-2f47-40a7-ad0c-57905e45aa88",
   "metadata": {},
   "outputs": [
    {
     "name": "stdout",
     "output_type": "stream",
     "text": [
      "[46 45 16  8 27 79  2 44 92 66 84 78 88 12 88 72 18 29 69 22]\n",
      "8\n",
      "92\n"
     ]
    }
   ],
   "source": [
    "array = np.random.randint(0, 100, 20)\n",
    "index_max = np.argmax(array)\n",
    "\n",
    "print(array)\n",
    "print(index_max)\n",
    "print(array[index_max])"
   ]
  },
  {
   "cell_type": "markdown",
   "id": "be995123-15e9-4449-870f-f8dd5c08ade6",
   "metadata": {},
   "source": [
    "### Exercise 16:\n",
    "Create a NumPy array and reverse its elements.\n"
   ]
  },
  {
   "cell_type": "code",
   "execution_count": 39,
   "id": "4371d2c6-de01-4203-b98f-f88a7121e4c9",
   "metadata": {},
   "outputs": [
    {
     "name": "stdout",
     "output_type": "stream",
     "text": [
      "[39  2  6  5 12 40 90 86 33 76 45 91 82 82 63 31 37  1 21 73]\n",
      "[73 21  1 37 31 63 82 82 91 45 76 33 86 90 40 12  5  6  2 39]\n"
     ]
    }
   ],
   "source": [
    "import numpy as np\n",
    "\n",
    "array = np.random.randint(0, 100, 20)\n",
    "f = array[::-1]\n",
    "\n",
    "print(array)\n",
    "print(f)\n"
   ]
  },
  {
   "cell_type": "markdown",
   "id": "1d13dda2-a637-45d5-9028-30ee117a3124",
   "metadata": {},
   "source": [
    "### Exercise 17:\n",
    "Create a 3x3 matrix and multiply it element-wise by another 3x3 matrix.\n"
   ]
  },
  {
   "cell_type": "code",
   "execution_count": 41,
   "id": "4401dbb0-cddb-4120-8e7b-9666a888ab22",
   "metadata": {},
   "outputs": [
    {
     "name": "stdout",
     "output_type": "stream",
     "text": [
      "[[4 1 0]\n",
      " [3 4 0]\n",
      " [2 3 2]]\n",
      "[[2 8 9]\n",
      " [2 7 1]\n",
      " [4 1 0]]\n",
      "[[ 8  8  0]\n",
      " [ 6 28  0]\n",
      " [ 8  3  0]]\n"
     ]
    }
   ],
   "source": [
    "arr1 = np.random.randint(0, 6, (3,3))\n",
    "arr2 = np.random.randint(0, 12, (3,3))\n",
    "print(arr1)\n",
    "print(arr2)\n",
    "prod = np.multiply(arr1, arr2)\n",
    "print(prod)"
   ]
  },
  {
   "cell_type": "markdown",
   "id": "c603a881-fb8c-4518-8457-3f9a2f10c684",
   "metadata": {},
   "source": [
    "### Exercise 18:\n",
    "Create a diagonal matrix from a given 1D array.\n"
   ]
  },
  {
   "cell_type": "code",
   "execution_count": 43,
   "id": "18ae194f-6043-4922-874b-a1de677470b9",
   "metadata": {},
   "outputs": [
    {
     "name": "stdout",
     "output_type": "stream",
     "text": [
      "[[ 1  0  0  0  0  0  0  0  0  0]\n",
      " [ 0  2  0  0  0  0  0  0  0  0]\n",
      " [ 0  0  3  0  0  0  0  0  0  0]\n",
      " [ 0  0  0  4  0  0  0  0  0  0]\n",
      " [ 0  0  0  0  5  0  0  0  0  0]\n",
      " [ 0  0  0  0  0  6  0  0  0  0]\n",
      " [ 0  0  0  0  0  0  7  0  0  0]\n",
      " [ 0  0  0  0  0  0  0  8  0  0]\n",
      " [ 0  0  0  0  0  0  0  0  9  0]\n",
      " [ 0  0  0  0  0  0  0  0  0 10]]\n"
     ]
    }
   ],
   "source": [
    "m = np.arange(1, 11)\n",
    "l = np.diag(m)\n",
    "print(l)\n"
   ]
  },
  {
   "cell_type": "markdown",
   "id": "59ccee2a-16fd-47e0-9d34-16134b02ceaf",
   "metadata": {},
   "source": [
    "### Exercise 19:\n",
    "Perform matrix multiplication on two 2D NumPy arrays."
   ]
  },
  {
   "cell_type": "code",
   "execution_count": 45,
   "id": "b3c9fcdb-3991-45c6-94fa-e4b8d23c97e8",
   "metadata": {},
   "outputs": [
    {
     "name": "stdout",
     "output_type": "stream",
     "text": [
      "ar1:\n",
      " [[ 1  2  3  4  5  6]\n",
      " [ 0  3  4  7 18 40]]\n",
      "ar2:\n",
      " [[ 1  2  3  9  5 19]\n",
      " [ 0  3 84  7 18 21]]\n",
      "Multiplication de matrices:\n",
      " [[ 189  502]\n",
      " [ 931 1558]]\n"
     ]
    }
   ],
   "source": [
    "import numpy as np\n",
    "\n",
    "ar1 = np.array([[1, 2, 3, 4, 5, 6], [0, 3, 4, 7, 18, 40]])\n",
    "ar2 = np.array([[1, 2, 3, 9, 5, 19], [0, 3, 84, 7, 18, 21]])\n",
    "\n",
    "# Multiplication of two matrix with np.dot()\n",
    "m = np.dot(ar1, ar2.T) \n",
    "print(\"ar1:\\n\", ar1)\n",
    "print(\"ar2:\\n\", ar2)\n",
    "print(\"Multiplication de matrices:\\n\", m)"
   ]
  },
  {
   "cell_type": "markdown",
   "id": "9ad7eb64-c27d-4914-ae34-2c272bf564cb",
   "metadata": {},
   "source": [
    "### Exercise 20:\n",
    "Flatten a 2D NumPy array into a 1D array."
   ]
  },
  {
   "cell_type": "code",
   "execution_count": 47,
   "id": "4e39c098-313b-434e-b1da-3abe5c058a25",
   "metadata": {},
   "outputs": [
    {
     "name": "stdout",
     "output_type": "stream",
     "text": [
      "[1 2 3 4 5 6 7 8 9]\n"
     ]
    }
   ],
   "source": [
    "array_2d = np.array([[1, 2, 3], [4, 5, 6], [7, 8, 9]])\n",
    "array_1d = array_2d.flatten()\n",
    "print(array_1d)"
   ]
  },
  {
   "cell_type": "markdown",
   "id": "6a69e3cf-9179-4af8-9b3f-0e13ba0d4940",
   "metadata": {},
   "source": [
    "### Exercise 21:\n",
    "Stack two NumPy arrays vertically."
   ]
  },
  {
   "cell_type": "code",
   "execution_count": 49,
   "id": "414c627d-2f02-4c1b-98cd-59f0d271c235",
   "metadata": {},
   "outputs": [
    {
     "name": "stdout",
     "output_type": "stream",
     "text": [
      "[[ 1  2  3]\n",
      " [ 4  5  6]\n",
      " [ 7  8  9]\n",
      " [10 11 12]]\n"
     ]
    }
   ],
   "source": [
    "a1 = np.array([[1, 2, 3], [4, 5, 6]])\n",
    "a2 = np.array([[7, 8, 9], [10, 11, 12]])\n",
    "stacked_array1 = np.vstack((a1, a2))\n",
    "print(stacked_array1)"
   ]
  },
  {
   "cell_type": "markdown",
   "id": "1a6b3104-a1b3-488b-a9c9-bcf7273075da",
   "metadata": {},
   "source": [
    "### Exercise 22:\n",
    "Stack two NumPy arrays horizontally."
   ]
  },
  {
   "cell_type": "code",
   "execution_count": 51,
   "id": "337a4d28-09f8-48da-a53b-08d2f7459354",
   "metadata": {},
   "outputs": [
    {
     "name": "stdout",
     "output_type": "stream",
     "text": [
      "[[ 1  2  3  7  8  9]\n",
      " [ 4  5  6 10 11 12]]\n"
     ]
    }
   ],
   "source": [
    "stacked_array2 = np.hstack((a1, a2))\n",
    "print(stacked_array2)"
   ]
  },
  {
   "cell_type": "markdown",
   "id": "9c703ed1-9f08-4694-9874-e37a715137a3",
   "metadata": {},
   "source": [
    "### Exercise 23:\n",
    "Split a NumPy array into multiple sub-arrays."
   ]
  },
  {
   "cell_type": "code",
   "execution_count": 53,
   "id": "7ef9dc54-925b-401e-a465-449ed9fefbd2",
   "metadata": {},
   "outputs": [
    {
     "name": "stdout",
     "output_type": "stream",
     "text": [
      "Sub-array 1: [1 2 3]\n",
      "Sub-array 2: [4 5 6]\n",
      "Sub-array 3: [7 8 9]\n"
     ]
    }
   ],
   "source": [
    "#Create a NumPy array\n",
    "array = np.array([1, 2, 3, 4, 5, 6, 7, 8, 9])\n",
    "# Split the array into 3 equal sub-arrays\n",
    "sub_arrays = np.split(array, 3)\n",
    "# Display the sub-arrays\n",
    "for i, arr in enumerate(sub_arrays):\n",
    "    print(f\"Sub-array {i + 1}: {arr}\")"
   ]
  },
  {
   "cell_type": "markdown",
   "id": "85f2b40a-f390-4b82-8de7-985f258cba96",
   "metadata": {},
   "source": [
    "### Exercise 24:\n",
    "Generate a random NumPy array and round each element to two decimal places."
   ]
  },
  {
   "cell_type": "code",
   "execution_count": 55,
   "id": "ec6e5dd1-0d0e-452c-a8b9-2f86f144d858",
   "metadata": {},
   "outputs": [
    {
     "name": "stdout",
     "output_type": "stream",
     "text": [
      "Original Array:\n",
      " [[0.73561077 0.5125312  0.81033811 0.51603725 0.35442123]\n",
      " [0.75661245 0.33081112 0.05921615 0.02071656 0.47481989]\n",
      " [0.70835143 0.79267696 0.99640218 0.11346215 0.19273652]\n",
      " [0.43232725 0.25932002 0.38769443 0.04291839 0.51796699]\n",
      " [0.28480109 0.29987945 0.3091117  0.29380211 0.10687682]]\n",
      "\n",
      "Rounded Array:\n",
      " [[0.74 0.51 0.81 0.52 0.35]\n",
      " [0.76 0.33 0.06 0.02 0.47]\n",
      " [0.71 0.79 1.   0.11 0.19]\n",
      " [0.43 0.26 0.39 0.04 0.52]\n",
      " [0.28 0.3  0.31 0.29 0.11]]\n"
     ]
    }
   ],
   "source": [
    "# Generate a random array with values between 0 and 1\n",
    "rd_array = np.random.rand(5, 5)\n",
    "# Round each element to two decimal places\n",
    "rounded_array = np.round(rd_array, 2)\n",
    "print(\"Original Array:\\n\", rd_array)\n",
    "print(\"\\nRounded Array:\\n\", rounded_array)"
   ]
  },
  {
   "cell_type": "markdown",
   "id": "40eaadaf-9627-4af5-bb8b-28218a31236b",
   "metadata": {},
   "source": [
    "### Exercise 25:\n",
    "Find the unique elements of a NumPy array."
   ]
  },
  {
   "cell_type": "code",
   "execution_count": 57,
   "id": "b29f5976-7e85-4d1e-a84a-4421033c43f1",
   "metadata": {},
   "outputs": [
    {
     "name": "stdout",
     "output_type": "stream",
     "text": [
      "Original Array: [1 2 3 4 3 2 1 5 6 5]\n",
      "Unique Elements: [1 2 3 4 5 6]\n"
     ]
    }
   ],
   "source": [
    "import numpy as np# Create a NumPy array\n",
    "array = np.array([1, 2, 3, 4, 3, 2, 1, 5, 6, 5])\n",
    "# Find the unique elements in the array\n",
    "unique_elements = np.unique(array)\n",
    "print(\"Original Array:\", array)\n",
    "print(\"Unique Elements:\", unique_elements)"
   ]
  },
  {
   "cell_type": "markdown",
   "id": "e448e141-51fd-4bfb-b11a-e735560caabc",
   "metadata": {},
   "source": [
    "### Exercise 26:\n",
    "Replace all elements in a NumPy array that are less than a specific value with that value."
   ]
  },
  {
   "cell_type": "markdown",
   "id": "7658872d-d256-4ee0-b942-e7eff2c58fa5",
   "metadata": {},
   "source": []
  },
  {
   "cell_type": "markdown",
   "id": "530c413a-bbda-4d5f-a7bd-bea4aaaef715",
   "metadata": {},
   "source": [
    "### Exercise 27:\n",
    "Find the cumulative sum of the elements in a NumPy array."
   ]
  },
  {
   "cell_type": "markdown",
   "id": "6d79fa49-c72f-4565-a8ae-bc663c05fc5f",
   "metadata": {},
   "source": []
  },
  {
   "cell_type": "markdown",
   "id": "fbce0b8a-6a6a-456e-b101-22b5286662d8",
   "metadata": {},
   "source": [
    "### Exercise 28:\n",
    "Create a NumPy array and find the number of non-zero elements in it."
   ]
  },
  {
   "cell_type": "markdown",
   "id": "2d50f07c-5312-4682-927d-3b44c7fa68c3",
   "metadata": {},
   "source": []
  },
  {
   "cell_type": "markdown",
   "id": "102377f8-86a1-419f-b363-aeb723837fbe",
   "metadata": {},
   "source": [
    "### Exercise 29:\n",
    "Create a NumPy array of random integers and sort it in ascending order."
   ]
  },
  {
   "cell_type": "markdown",
   "id": "1ea18eaa-d943-4399-993c-2b6edaf78cae",
   "metadata": {},
   "source": []
  },
  {
   "cell_type": "markdown",
   "id": "ffb7e20b-7e10-4ea7-9449-c9eeef01523e",
   "metadata": {},
   "source": [
    "### Exercise 30:\n",
    "Find the row-wise and column-wise sum of a 3x3 matrix."
   ]
  },
  {
   "cell_type": "code",
   "execution_count": null,
   "id": "bd570452-be47-4561-9b6c-ed7a33439cca",
   "metadata": {},
   "outputs": [],
   "source": []
  },
  {
   "cell_type": "markdown",
   "id": "b2350a77-c416-4865-9cc6-6fe6423eb941",
   "metadata": {},
   "source": [
    "### Exercise 31:\n",
    "Generate a 2D NumPy array with random values and normalize it (scale the values between 0 and 1).\n",
    "\n",
    "```python\n",
    "# Exercise 31\n",
    "```\n",
    "\n",
    "---\n",
    "\n",
    "### Exercise 32:\n",
    "Create two NumPy arrays and find the dot product.\n",
    "\n",
    "```python\n",
    "# Exercise 32\n",
    "```\n",
    "\n",
    "---\n",
    "\n",
    "### Exercise 33:\n",
    "Find the trace of a square NumPy matrix.\n",
    "\n",
    "```python\n",
    "# Exercise 33\n",
    "```\n",
    "\n",
    "---\n",
    "\n",
    "### Exercise 34:\n",
    "Create a 2D array and swap two rows.\n",
    "\n",
    "```python\n",
    "# Exercise 34\n",
    "```\n",
    "\n",
    "---\n",
    "\n",
    "### Exercise 35:\n",
    "Create a 1D NumPy array and convert it into a column vector.\n",
    "\n",
    "```python\n",
    "# Exercise 35\n",
    "```\n",
    "\n",
    "---\n",
    "\n",
    "### Exercise 36:\n",
    "Find the determinant of a 3x3 matrix.\n",
    "\n",
    "```python\n",
    "# Exercise 36\n",
    "```\n",
    "\n",
    "---\n",
    "\n",
    "### Exercise 37:\n",
    "Find the eigenvalues and eigenvectors of a 2x2 matrix.\n",
    "\n",
    "```python\n",
    "# Exercise 37\n",
    "```\n",
    "\n",
    "---\n",
    "\n",
    "### Exercise 38:\n",
    "Solve a system of linear equations using NumPy.\n",
    "\n",
    "```python\n",
    "# Exercise 38\n",
    "```\n",
    "\n",
    "---\n",
    "\n",
    "### Exercise 39:\n",
    "Add Gaussian noise to a NumPy array.\n",
    "\n",
    "```python\n",
    "# Exercise 39\n",
    "```\n",
    "\n",
    "---\n",
    "\n",
    "### Exercise 40:\n",
    "Create a 4x4 matrix and extract the diagonal elements.\n",
    "\n",
    "```python\n",
    "# Exercise 40\n",
    "```\n",
    "\n",
    "---\n",
    "\n",
    "### Exercise 41:\n",
    "Generate a NumPy array of 100 random values and clip the values to a range between 10 and 50.\n",
    "\n",
    "```python\n",
    "# Exercise 41\n",
    "```\n",
    "\n",
    "---\n",
    "\n",
    "### Exercise 42:\n",
    "Create a 2D NumPy array and replace all negative values with zero.\n",
    "\n",
    "```python\n",
    "# Exercise 42\n",
    "```\n",
    "\n",
    "---\n",
    "\n",
    "### Exercise 43:\n",
    "Find the inner and outer products of two NumPy arrays.\n",
    "\n",
    "```python\n",
    "# Exercise 43\n",
    "```\n",
    "\n",
    "---\n",
    "\n",
    "### Exercise 44:\n",
    "Calculate the pairwise distances between points in a NumPy array.\n",
    "\n",
    "```python\n",
    "# Exercise 44\n",
    "```\n",
    "\n",
    "---\n",
    "\n",
    "### Exercise 45:\n",
    "Create a structured NumPy array with fields for `name`, `age`, and `height`.\n",
    "\n",
    "```python\n",
    "# Exercise 45\n",
    "```\n",
    "\n",
    "---\n",
    "\n",
    "### Exercise 46:\n",
    "Create a 5x5 matrix of random integers and count the occurrences of each unique value.\n",
    "\n",
    "```python\n",
    "# Exercise 46\n",
    "```\n",
    "\n",
    "---\n",
    "\n",
    "### Exercise 47:\n",
    "Generate a random 3x3 NumPy array and subtract the mean of each row from the corresponding row.\n",
    "\n",
    "```python\n",
    "# Exercise 47\n",
    "```\n",
    "\n",
    "---\n",
    "\n",
    "### Exercise 48:\n",
    "Create a NumPy array of random integers and check if any of the values are greater than 50.\n",
    "\n",
    "```python\n",
    "# Exercise 48\n",
    "```\n",
    "\n",
    "---\n",
    "\n",
    "### Exercise 49:\n",
    "Calculate the moving average of a 1D NumPy array.\n",
    "\n",
    "```python\n",
    "# Exercise 49\n",
    "```\n",
    "\n",
    "---\n",
    "\n",
    "### Exercise 50:\n",
    "Find the Pearson correlation coefficient between two NumPy arrays.\n",
    "\n",
    "```python\n",
    "# Exercise 50\n",
    "```\n",
    "\n",
    "---\n",
    "\n",
    "### Exercise 51:\n",
    "Convert a NumPy array of radians to degrees.\n",
    "\n",
    "```python\n",
    "# Exercise 51\n",
    "```\n",
    "\n",
    "---\n",
    "\n",
    "### Exercise 52:\n",
    "Create a random NumPy array and compute its variance and standard deviation.\n",
    "\n",
    "```python\n",
    "# Exercise 52\n",
    "```\n",
    "\n",
    "---\n",
    "\n",
    "### Exercise 53:\n",
    "Create a 2D NumPy array and find the indices of the maximum values along each axis.\n",
    "\n",
    "```python\n",
    "# Exercise 53\n",
    "```\n",
    "\n",
    "---\n",
    "\n",
    "### Exercise 54:\n",
    "Compute the inverse of a 2x2 NumPy matrix.\n",
    "\n",
    "```python\n",
    "# Exercise 54\n",
    "```\n",
    "\n",
    "---\n",
    "\n",
    "### Exercise 55:\n",
    "Create a NumPy array of 10 random values and standardize it (mean 0, variance 1).\n",
    "\n",
    "```python\n",
    "# Exercise 55\n",
    "```\n",
    "\n",
    "---\n",
    "\n",
    "### Exercise 56:\n",
    "Perform element-wise addition and subtraction on two NumPy arrays.\n",
    "\n",
    "```python\n",
    "# Exercise 56\n",
    "```\n",
    "\n",
    "---\n",
    "\n",
    "### Exercise 57:\n",
    "Create a NumPy array of random values and find the maximum element's index.\n",
    "\n",
    "```python\n",
    "# Exercise 57\n",
    "```\n",
    "\n",
    "---\n",
    "\n",
    "### Exercise 58:\n",
    "Create a 3x3 NumPy array and rotate it by 90 degrees.\n",
    "\n",
    "```python\n",
    "# Exercise 58\n",
    "```\n",
    "\n",
    "---\n",
    "\n",
    "### Exercise 59:\n",
    "Compute the Frobenius norm of a matrix.\n",
    "\n",
    "```python\n",
    "# Exercise 59\n",
    "```\n",
    "\n",
    "---\n",
    "\n",
    "### Exercise 60:\n",
    "Create a 3D NumPy array and slice out a subarray.\n",
    "\n",
    "```python\n",
    "# Exercise 60\n",
    "```\n",
    "\n",
    "---"
   ]
  }
 ],
 "metadata": {
  "kernelspec": {
   "display_name": "Python 3 (ipykernel)",
   "language": "python",
   "name": "python3"
  },
  "language_info": {
   "codemirror_mode": {
    "name": "ipython",
    "version": 3
   },
   "file_extension": ".py",
   "mimetype": "text/x-python",
   "name": "python",
   "nbconvert_exporter": "python",
   "pygments_lexer": "ipython3",
   "version": "3.12.4"
  }
 },
 "nbformat": 4,
 "nbformat_minor": 5
}
