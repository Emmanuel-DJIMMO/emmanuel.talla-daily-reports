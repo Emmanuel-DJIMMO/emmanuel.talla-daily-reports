{
 "cells": [
  {
   "cell_type": "markdown",
   "metadata": {
    "id": "53N3iK03l1e2"
   },
   "source": [
    "# PyPro: Challenge 2\n",
    "\n",
    "### This challenge is due on Saturday, October 5th, 2024, at 8pm.\n",
    "\n",
    "`These exercises offer a diverse array of tasks that assess your comprehension of fundamental Python concepts such as loops, data types, string manipulations, list comprehensions, and higher-order functions.`\n",
    "\n",
    "| Levels | Level Description | Estimated Completion Time per Exercise |\n",
    "| :----- | :---------------: | -------------------------------------: |\n",
    "| L1     | Beginner. The solutions can typically be found in standard textbooks. | 5 - 10 minutes |\n",
    "| L2     | Intermediate. Requires problem-solving skills. Solutions are not directly found in textbooks. | 10 - 20 minutes |\n",
    "| L3     | Advanced. You should be capable of using Python to solve more intricate problems involving libraries, data structures, and algorithms. | 20 - 30 minutes |\n",
    "\n",
    "---"
   ]
  },
  {
   "cell_type": "markdown",
   "metadata": {
    "id": "53N3iK03l1e2"
   },
   "source": [
    "#### Question 1  \n",
    "**Level 1**\n",
    "\n",
    "**Task:**  \n",
    "Develop a program to find all numbers between 2000 and 3200 (inclusive) that are divisible by 7 but not multiples of 5. Display these numbers as a single line of output, separated by commas.\n"
   ]
  },
  {
   "cell_type": "code",
   "execution_count": 16,
   "metadata": {},
   "outputs": [
    {
     "ename": "AttributeError",
     "evalue": "'NoneType' object has no attribute 'append'",
     "output_type": "error",
     "traceback": [
      "\u001b[0;31m---------------------------------------------------------------------------\u001b[0m",
      "\u001b[0;31mAttributeError\u001b[0m                            Traceback (most recent call last)",
      "Cell \u001b[0;32mIn[16], line 7\u001b[0m\n\u001b[1;32m      5\u001b[0m             list1 \u001b[38;5;241m=\u001b[39m list1\u001b[38;5;241m.\u001b[39mappend(i)\n\u001b[1;32m      6\u001b[0m     \u001b[38;5;28mprint\u001b[39m(list1)\n\u001b[0;32m----> 7\u001b[0m find()\n",
      "Cell \u001b[0;32mIn[16], line 5\u001b[0m, in \u001b[0;36mfind\u001b[0;34m()\u001b[0m\n\u001b[1;32m      3\u001b[0m \u001b[38;5;28;01mfor\u001b[39;00m i \u001b[38;5;129;01min\u001b[39;00m \u001b[38;5;28mrange\u001b[39m(\u001b[38;5;241m1999\u001b[39m, \u001b[38;5;241m3201\u001b[39m):\n\u001b[1;32m      4\u001b[0m     \u001b[38;5;28;01mif\u001b[39;00m i\u001b[38;5;241m%\u001b[39m\u001b[38;5;241m7\u001b[39m \u001b[38;5;241m==\u001b[39m \u001b[38;5;241m0\u001b[39m :\n\u001b[0;32m----> 5\u001b[0m         list1 \u001b[38;5;241m=\u001b[39m list1\u001b[38;5;241m.\u001b[39mappend(i)\n\u001b[1;32m      6\u001b[0m \u001b[38;5;28mprint\u001b[39m(list1)\n",
      "\u001b[0;31mAttributeError\u001b[0m: 'NoneType' object has no attribute 'append'"
     ]
    }
   ],
   "source": [
    "def find():\n",
    "    list1 = []\n",
    "    for i in range(1999, 3201):\n",
    "        if i%7 == 0 :\n",
    "            list1 = list1.append(i)\n",
    "    print(list1)\n",
    "find()        "
   ]
  },
  {
   "cell_type": "code",
   "execution_count": 22,
   "metadata": {},
   "outputs": [
    {
     "name": "stdout",
     "output_type": "stream",
     "text": [
      "[2002, 2009, 2016, 2023, 2030, 2037, 2044, 2051, 2058, 2065, 2072, 2079, 2086, 2093, 2100, 2107, 2114, 2121, 2128, 2135, 2142, 2149, 2156, 2163, 2170, 2177, 2184, 2191, 2198, 2205, 2212, 2219, 2226, 2233, 2240, 2247, 2254, 2261, 2268, 2275, 2282, 2289, 2296, 2303, 2310, 2317, 2324, 2331, 2338, 2345, 2352, 2359, 2366, 2373, 2380, 2387, 2394, 2401, 2408, 2415, 2422, 2429, 2436, 2443, 2450, 2457, 2464, 2471, 2478, 2485, 2492, 2499, 2506, 2513, 2520, 2527, 2534, 2541, 2548, 2555, 2562, 2569, 2576, 2583, 2590, 2597, 2604, 2611, 2618, 2625, 2632, 2639, 2646, 2653, 2660, 2667, 2674, 2681, 2688, 2695, 2702, 2709, 2716, 2723, 2730, 2737, 2744, 2751, 2758, 2765, 2772, 2779, 2786, 2793, 2800, 2807, 2814, 2821, 2828, 2835, 2842, 2849, 2856, 2863, 2870, 2877, 2884, 2891, 2898, 2905, 2912, 2919, 2926, 2933, 2940, 2947, 2954, 2961, 2968, 2975, 2982, 2989, 2996, 3003, 3010, 3017, 3024, 3031, 3038, 3045, 3052, 3059, 3066, 3073, 3080, 3087, 3094, 3101, 3108, 3115, 3122, 3129, 3136, 3143, 3150, 3157, 3164, 3171, 3178, 3185, 3192, 3199]\n",
      "number of elements is 172\n"
     ]
    }
   ],
   "source": [
    "def find():\n",
    "    list1 = []\n",
    "    l=0\n",
    "    for i in range(1999, 3201):\n",
    "        if i % 7 == 0:\n",
    "            list1.append(i)  \n",
    "            l=l+1\n",
    "    print(list1) \n",
    "    print(f\"number of elements is {l}\")\n",
    "find()"
   ]
  },
  {
   "cell_type": "markdown",
   "metadata": {
    "id": "53N3iK03l1e2"
   },
   "source": []
  },
  {
   "cell_type": "markdown",
   "metadata": {
    "id": "53N3iK03l1e2"
   },
   "source": [
    "#### Question 2  \n",
    "**Level 1**\n",
    "\n",
    "**Task:**  \n",
    "Create a function that computes the factorial of a specified integer. Display the result in a single line of output. For example, if the input is:  \n",
    "`8`  \n",
    "Then, the output should be:  \n",
    "`40320`"
   ]
  },
  {
   "cell_type": "code",
   "execution_count": 28,
   "metadata": {},
   "outputs": [
    {
     "name": "stdin",
     "output_type": "stream",
     "text": [
      "Input an integer:  4\n"
     ]
    },
    {
     "name": "stdout",
     "output_type": "stream",
     "text": [
      "Factorial of 4 is: 24\n"
     ]
    }
   ],
   "source": [
    "n = int(input(\"Input an integer: \"))\n",
    "\n",
    "def factorial(n):\n",
    "    fact = 1  # Initialisation of fact\n",
    "    for i in range(1, n + 1): \n",
    "        fact *= i  # Multiply fact by i\n",
    "    return fact\n",
    "\n",
    "result = factorial(n)\n",
    "print(f\"Factorial of {n} is: {result}\")"
   ]
  },
  {
   "cell_type": "markdown",
   "metadata": {
    "id": "53N3iK03l1e2"
   },
   "source": [
    "#### Question 3  \n",
    "**Level 1**\n",
    "\n",
    "**Task:**  \n",
    "Given an integer `n`, generate a dictionary with entries (i, i*i) for all integers from 1 to `n` (inclusive). Print the resulting dictionary. For example, if the input is:  \n",
    "`8`  \n",
    "Then, the output should be:  \n",
    "`{1: 1, 2: 4, 3: 9, 4: 16, 5: 25, 6: 36, 7: 49, 8: 64}`"
   ]
  },
  {
   "cell_type": "code",
   "execution_count": 50,
   "metadata": {},
   "outputs": [
    {
     "name": "stdin",
     "output_type": "stream",
     "text": [
      "Enter an integer:  67\n"
     ]
    },
    {
     "name": "stdout",
     "output_type": "stream",
     "text": [
      "{0: 0, 1: 1, 2: 4, 3: 9, 4: 16, 5: 25, 6: 36, 7: 49, 8: 64, 9: 81, 10: 100, 11: 121, 12: 144, 13: 169, 14: 196, 15: 225, 16: 256, 17: 289, 18: 324, 19: 361, 20: 400, 21: 441, 22: 484, 23: 529, 24: 576, 25: 625, 26: 676, 27: 729, 28: 784, 29: 841, 30: 900, 31: 961, 32: 1024, 33: 1089, 34: 1156, 35: 1225, 36: 1296, 37: 1369, 38: 1444, 39: 1521, 40: 1600, 41: 1681, 42: 1764, 43: 1849, 44: 1936, 45: 2025, 46: 2116, 47: 2209, 48: 2304, 49: 2401, 50: 2500, 51: 2601, 52: 2704, 53: 2809, 54: 2916, 55: 3025, 56: 3136, 57: 3249, 58: 3364, 59: 3481, 60: 3600, 61: 3721, 62: 3844, 63: 3969, 64: 4096, 65: 4225, 66: 4356, 67: 4489}\n"
     ]
    }
   ],
   "source": [
    "n = int(input(\"Enter an integer: \"))\n",
    "\n",
    "def bib(n):\n",
    "    sets = {}  # Initialize an empty dictionary\n",
    "    for i in range(0, n + 1):\n",
    "        sets[i] = i * i  # Add key-value pair i : i*i to the dictionary\n",
    "    print(sets)\n",
    "\n",
    "bib(n)"
   ]
  },
  {
   "cell_type": "markdown",
   "metadata": {
    "id": "53N3iK03l1e2"
   },
   "source": [
    "#### Question 4  \n",
    "**Level 1**\n",
    "\n",
    "**Task:**  \n",
    "Create a program that reads a series of comma-separated numbers from the console, then generates and prints both a list and a tuple containing those numbers. For example, if the input is:  \n",
    "`34,67,55,33,12,98`  \n",
    "The output should be:  \n",
    "`['34', '67', '55', '33', '12', '98']`  \n",
    "`('34', '67', '55', '33', '12', '98')`"
   ]
  },
  {
   "cell_type": "code",
   "execution_count": 72,
   "metadata": {},
   "outputs": [
    {
     "name": "stdout",
     "output_type": "stream",
     "text": [
      "(34, 67, 55, 33, 12, 98, 3049, 33, 983, 2, 1, 0, 44872)\n",
      "[34, 67, 55, 33, 12, 98, 3049, 33, 983, 2, 1, 0, 44872]\n"
     ]
    }
   ],
   "source": [
    " n = '34,67,55,33,12,98,3049,33, 983,2,1,0,44872'\n",
    "\n",
    "# Split the string into a list of strings\n",
    "list_of_strings = n.split(',')\n",
    "# Convert each string in the list to an integer\n",
    "list_of_integers = [int(i) for i in list_of_strings]\n",
    "#Convert each string in the list to an integer\n",
    "tuple_of_strings = tuple(list_of_integers)\n",
    "# Print the results\n",
    "print(tuple_of_strings)\n",
    "print(list_of_integers)"
   ]
  },
  {
   "cell_type": "markdown",
   "metadata": {
    "id": "53N3iK03l1e2"
   },
   "source": [
    "#### Question 5  \n",
    "**Level 1**\n",
    "\n",
    "**Task:**  \n",
    "Create a class that has two methods:  \n",
    "- `getString`: To accept a string input from the console.  \n",
    "- `printString`: To display the string in uppercase.  \n",
    "Include a simple test function to demonstrate the class methods."
   ]
  },
  {
   "cell_type": "code",
   "execution_count": 74,
   "metadata": {},
   "outputs": [
    {
     "name": "stdin",
     "output_type": "stream",
     "text": [
      "Enter a string:  hjoiuio90878ujjjjikmkm nkkjkjj89\n"
     ]
    },
    {
     "name": "stdout",
     "output_type": "stream",
     "text": [
      "HJOIUIO90878UJJJJIKMKM NKKJKJJ89\n"
     ]
    }
   ],
   "source": [
    "class StringHandler:\n",
    "    def __init__(self):\n",
    "        self.input_string = \"\"\n",
    "    # Method to accept a string input\n",
    "    def getString(self):\n",
    "        self.input_string = input(\"Enter a string: \")\n",
    "    # Method to display the string in uppercase\n",
    "    def printString(self):\n",
    "        print(self.input_string.upper())\n",
    "# Test function to demonstrate the class methods\n",
    "def test_StringHandler():\n",
    "    handler = StringHandler()  # Create an instance of the class\n",
    "    handler.getString()        # Get the string input from the user\n",
    "    handler.printString()      # Print the string in uppercase\n",
    "\n",
    "# Run the test function\n",
    "test_StringHandler()\n"
   ]
  },
  {
   "cell_type": "markdown",
   "metadata": {
    "id": "53N3iK03l1e2"
   },
   "source": [
    "#### Question 6  \n",
    "**Level 2**\n",
    "\n",
    "**Task:**  \n",
    "Write a program that calculates and prints values based on the formula:  \n",
    "\\[ Q = \\sqrt{\\frac{2 \\times C \\times D}{H}} \\]  \n",
    "Here, C and H are fixed constants with values 50 and 30, respectively. `D` is a variable whose values are input to the program as a comma-separated sequence. For example, if the input is:  \n",
    "`100,150,180`  \n",
    "Then, the output should be:  \n",
    "`18,22,24`"
   ]
  },
  {
   "cell_type": "code",
   "execution_count": 66,
   "metadata": {
    "id": "53N3iK03l1e2"
   },
   "outputs": [
    {
     "name": "stdin",
     "output_type": "stream",
     "text": [
      "Enter a comma separated value:  100,150,180\n"
     ]
    },
    {
     "name": "stdout",
     "output_type": "stream",
     "text": [
      "18,22,24\n"
     ]
    }
   ],
   "source": [
    "import math\n",
    "\n",
    "D = input(\"Enter a comma separated value: \")\n",
    "C = 50\n",
    "H = 30\n",
    "\n",
    "def formula(D):\n",
    "    A = D.split(',')\n",
    "    result = [str(int(math.sqrt((2 * C * int(i)) / H))) for i in A]\n",
    "    return ','.join(result)\n",
    "\n",
    "print(formula(D))\n"
   ]
  },
  {
   "cell_type": "markdown",
   "metadata": {
    "id": "53N3iK03l1e2"
   },
   "source": [
    "#### Question 7  \n",
    "**Level 2**\n",
    "\n",
    "**Task:**  \n",
    "Write a program that accepts two numbers, X and Y, as input and generates a 2-dimensional list. The value at the i-th row and j-th column should be the product of `i` and `j`. For example, if the input is:  \n",
    "`3,5`  \n",
    "The output should be:  \n",
    "`[[0, 0, 0, 0, 0], [0, 1, 2, 3, 4], [0, 2, 4, 6, 8]]`"
   ]
  },
  {
   "cell_type": "code",
   "execution_count": 74,
   "metadata": {
    "id": "53N3iK03l1e2"
   },
   "outputs": [
    {
     "name": "stdin",
     "output_type": "stream",
     "text": [
      "Enter the number of rows (X):  3\n",
      "Enter the number of columns (Y):  5\n"
     ]
    },
    {
     "data": {
      "text/plain": [
       "[[0, 0, 0, 0, 0], [0, 1, 2, 3, 4], [0, 2, 4, 6, 8]]"
      ]
     },
     "execution_count": 74,
     "metadata": {},
     "output_type": "execute_result"
    }
   ],
   "source": [
    "X = int(input(\"Enter the number of rows (X): \"))\n",
    "Y = int(input(\"Enter the number of columns (Y): \"))\n",
    "\n",
    "def listes(X, Y):\n",
    "    # Création  X*Y\n",
    "    listes = [[None for _ in range(Y)] for _ in range(X)]\n",
    "    for i in range(X):\n",
    "        for j in range(Y):\n",
    "            listes[i][j] = i * j  \n",
    "    return listes\n",
    "listes(X, Y)\n"
   ]
  },
  {
   "cell_type": "markdown",
   "metadata": {
    "id": "53N3iK03l1e2"
   },
   "source": [
    "#### Question 8  \n",
    "**Level 2**\n",
    "\n",
    "**Task:**  \n",
    "Write a program that accepts a comma-separated list of words, sorts them alphabetically, and then prints them in a single line, separated by commas. For example, if the input is:  \n",
    "`without,hello,bag,world`  \n",
    "The output should be:  \n",
    "`bag,hello,without,world`"
   ]
  },
  {
   "cell_type": "code",
   "execution_count": 88,
   "metadata": {
    "id": "53N3iK03l1e2"
   },
   "outputs": [
    {
     "name": "stdin",
     "output_type": "stream",
     "text": [
      "Enter a comma-separated list:  ui,op,ry,akj, anmb,fr\n"
     ]
    },
    {
     "name": "stdout",
     "output_type": "stream",
     "text": [
      " anmb,akj,fr,op,ry,ui\n"
     ]
    }
   ],
   "source": [
    "list8 = input(\"Enter a comma-separated list: \")\n",
    "def sum_char(list8):\n",
    "    # Split the input string into a list\n",
    "    list9 = list8.split(',')   \n",
    "    # Sort the list alphabetically\n",
    "    list9_sorted = sorted(list9)   \n",
    "    # Join the sorted elements with commas\n",
    "    l = list9_sorted[0]\n",
    "    for i in range(1, len(list9_sorted)):\n",
    "        l = l + ',' + list9_sorted[i]\n",
    "    # Print the result\n",
    "    print(l)\n",
    "# Call the function\n",
    "sum_char(list8)\n",
    "\n",
    "    "
   ]
  },
  {
   "cell_type": "markdown",
   "metadata": {
    "id": "53N3iK03l1e2"
   },
   "source": [
    "#### Question 9  \n",
    "**Level 2**\n",
    "\n",
    "**Task:**  \n",
    "Create a program that reads multiple lines of input and outputs each line with all characters converted to uppercase. For example, if the input is:  \n",
    "`Hello world`  \n",
    "`Practice makes perfect`  \n",
    "The output should be:  \n",
    "`HELLO WORLD`  \n",
    "`PRACTICE MAKES PERFECT`"
   ]
  },
  {
   "cell_type": "code",
   "execution_count": 98,
   "metadata": {
    "id": "53N3iK03l1e2"
   },
   "outputs": [
    {
     "name": "stdout",
     "output_type": "stream",
     "text": [
      "Enter multiple lines of text (press Enter on an empty line to finish):\n"
     ]
    },
    {
     "name": "stdin",
     "output_type": "stream",
     "text": [
      " ggjj\n",
      " jjkjkjiu\n",
      " fgjgjhyu\n",
      " jkkkj\n",
      " uyhkjjkguknbv\n",
      " ghghffyhj\n",
      " \n"
     ]
    },
    {
     "name": "stdout",
     "output_type": "stream",
     "text": [
      "GGJJ\n",
      "JJKJKJIU\n",
      "FGJGJHYU\n",
      "JKKKJ\n",
      "UYHKJJKGUKNBV\n",
      "GHGHFFYHJ\n"
     ]
    }
   ],
   "source": [
    "def get_multiline_input():\n",
    "    print(\"Enter multiple lines of text (press Enter on an empty line to finish):\")\n",
    "    lines = []\n",
    "    while True:\n",
    "        line = input()  # Get a line of input\n",
    "        if line:  # If the line is not empty, append it\n",
    "            lines.append(line)\n",
    "        else:  # Stop when an empty line is entered\n",
    "            break\n",
    "    return lines\n",
    "\n",
    "def uppercase_lines(lines):\n",
    "    # Convert each line to uppercase and print it\n",
    "    for line in lines:\n",
    "        print(line.upper())\n",
    "\n",
    "# Get multi-line input from the user\n",
    "text_lines = get_multiline_input()\n",
    "\n",
    "# Convert and print each line in uppercase\n",
    "uppercase_lines(text_lines)\n"
   ]
  },
  {
   "cell_type": "markdown",
   "metadata": {
    "id": "53N3iK03l1e2"
   },
   "source": [
    "#### Question 10  \n",
    "**Level 2**\n",
    "\n",
    "**Task:**  \n",
    "Write a program that reads a sequence of whitespace-separated words, removes all duplicate words, sorts them alphanumerically, and then prints the resulting words. For example, if the input is:  \n",
    "`hello world and practice makes perfect and hello world again`  \n",
    "The output should be:  \n",
    "`again and hello makes perfect practice world`"
   ]
  },
  {
   "cell_type": "markdown",
   "metadata": {
    "id": "53N3iK03l1e2"
   },
   "source": [
    "---"
   ]
  },
  {
   "cell_type": "markdown",
   "metadata": {
    "id": "53N3iK03l1e2"
   },
   "source": [
    "#### Question 11  \n",
    "**Level 2**\n",
    "\n",
    "**Task:**  \n",
    "Create a program that takes a sequence of 4-digit binary numbers, checks which ones are divisible by 5, and prints them as a comma-separated sequence. For example, if the input is:  \n",
    "`0100,0011,1010,1001`  \n",
    "The output should be:  \n",
    "`1010`  \n",
    "Note: Assume the input is provided through the console."
   ]
  },
  {
   "cell_type": "code",
   "execution_count": 110,
   "metadata": {
    "id": "53N3iK03l1e2"
   },
   "outputs": [
    {
     "name": "stdin",
     "output_type": "stream",
     "text": [
      "Enter a sequence of 4-digit binary numbers, separated by commas:  1111, 1000, 0000, 1010\n"
     ]
    },
    {
     "name": "stdout",
     "output_type": "stream",
     "text": [
      "1111, 0000, 1010\n"
     ]
    }
   ],
   "source": [
    "seq = input(\"Enter a sequence of 4-digit binary numbers, separated by commas: \")\n",
    "\n",
    "def div(seq):\n",
    "    # Split the input string into a list of binary numbers\n",
    "    lst2 = seq.split(',')\n",
    "    \n",
    "    # Initialize an empty list to store numbers divisible by 5\n",
    "    result = []\n",
    "    \n",
    "    # Loop through each binary number in the list\n",
    "    for binary in lst2:\n",
    "        # Convert binary string to an integer and check if it's divisible by 5\n",
    "        if int(binary, 2) % 5 == 0:\n",
    "            result.append(binary)\n",
    "    \n",
    "    # Join the result list with commas\n",
    "    return ','.join(result)\n",
    "\n",
    "# Call the function and print the result\n",
    "print(div(seq))\n"
   ]
  },
  {
   "cell_type": "markdown",
   "metadata": {
    "id": "53N3iK03l1e2"
   },
   "source": [
    "#### Question 12  \n",
    "**Level 2**\n",
    "\n",
    "**Task:**  \n",
    "Develop a program that finds all numbers between 1000 and 3000 (inclusive) where each digit is an even number. Print the results as a comma-separated sequence in a single line."
   ]
  },
  {
   "cell_type": "code",
   "execution_count": 100,
   "metadata": {
    "id": "53N3iK03l1e2"
   },
   "outputs": [
    {
     "name": "stdout",
     "output_type": "stream",
     "text": [
      "[1000, 1002, 1004, 1006, 1008, 1010, 1012, 1014, 1016, 1018, 1020, 1022, 1024, 1026, 1028, 1030, 1032, 1034, 1036, 1038, 1040, 1042, 1044, 1046, 1048, 1050, 1052, 1054, 1056, 1058, 1060, 1062, 1064, 1066, 1068, 1070, 1072, 1074, 1076, 1078, 1080, 1082, 1084, 1086, 1088, 1090, 1092, 1094, 1096, 1098, 1100, 1102, 1104, 1106, 1108, 1110, 1112, 1114, 1116, 1118, 1120, 1122, 1124, 1126, 1128, 1130, 1132, 1134, 1136, 1138, 1140, 1142, 1144, 1146, 1148, 1150, 1152, 1154, 1156, 1158, 1160, 1162, 1164, 1166, 1168, 1170, 1172, 1174, 1176, 1178, 1180, 1182, 1184, 1186, 1188, 1190, 1192, 1194, 1196, 1198, 1200, 1202, 1204, 1206, 1208, 1210, 1212, 1214, 1216, 1218, 1220, 1222, 1224, 1226, 1228, 1230, 1232, 1234, 1236, 1238, 1240, 1242, 1244, 1246, 1248, 1250, 1252, 1254, 1256, 1258, 1260, 1262, 1264, 1266, 1268, 1270, 1272, 1274, 1276, 1278, 1280, 1282, 1284, 1286, 1288, 1290, 1292, 1294, 1296, 1298, 1300, 1302, 1304, 1306, 1308, 1310, 1312, 1314, 1316, 1318, 1320, 1322, 1324, 1326, 1328, 1330, 1332, 1334, 1336, 1338, 1340, 1342, 1344, 1346, 1348, 1350, 1352, 1354, 1356, 1358, 1360, 1362, 1364, 1366, 1368, 1370, 1372, 1374, 1376, 1378, 1380, 1382, 1384, 1386, 1388, 1390, 1392, 1394, 1396, 1398, 1400, 1402, 1404, 1406, 1408, 1410, 1412, 1414, 1416, 1418, 1420, 1422, 1424, 1426, 1428, 1430, 1432, 1434, 1436, 1438, 1440, 1442, 1444, 1446, 1448, 1450, 1452, 1454, 1456, 1458, 1460, 1462, 1464, 1466, 1468, 1470, 1472, 1474, 1476, 1478, 1480, 1482, 1484, 1486, 1488, 1490, 1492, 1494, 1496, 1498, 1500, 1502, 1504, 1506, 1508, 1510, 1512, 1514, 1516, 1518, 1520, 1522, 1524, 1526, 1528, 1530, 1532, 1534, 1536, 1538, 1540, 1542, 1544, 1546, 1548, 1550, 1552, 1554, 1556, 1558, 1560, 1562, 1564, 1566, 1568, 1570, 1572, 1574, 1576, 1578, 1580, 1582, 1584, 1586, 1588, 1590, 1592, 1594, 1596, 1598, 1600, 1602, 1604, 1606, 1608, 1610, 1612, 1614, 1616, 1618, 1620, 1622, 1624, 1626, 1628, 1630, 1632, 1634, 1636, 1638, 1640, 1642, 1644, 1646, 1648, 1650, 1652, 1654, 1656, 1658, 1660, 1662, 1664, 1666, 1668, 1670, 1672, 1674, 1676, 1678, 1680, 1682, 1684, 1686, 1688, 1690, 1692, 1694, 1696, 1698, 1700, 1702, 1704, 1706, 1708, 1710, 1712, 1714, 1716, 1718, 1720, 1722, 1724, 1726, 1728, 1730, 1732, 1734, 1736, 1738, 1740, 1742, 1744, 1746, 1748, 1750, 1752, 1754, 1756, 1758, 1760, 1762, 1764, 1766, 1768, 1770, 1772, 1774, 1776, 1778, 1780, 1782, 1784, 1786, 1788, 1790, 1792, 1794, 1796, 1798, 1800, 1802, 1804, 1806, 1808, 1810, 1812, 1814, 1816, 1818, 1820, 1822, 1824, 1826, 1828, 1830, 1832, 1834, 1836, 1838, 1840, 1842, 1844, 1846, 1848, 1850, 1852, 1854, 1856, 1858, 1860, 1862, 1864, 1866, 1868, 1870, 1872, 1874, 1876, 1878, 1880, 1882, 1884, 1886, 1888, 1890, 1892, 1894, 1896, 1898, 1900, 1902, 1904, 1906, 1908, 1910, 1912, 1914, 1916, 1918, 1920, 1922, 1924, 1926, 1928, 1930, 1932, 1934, 1936, 1938, 1940, 1942, 1944, 1946, 1948, 1950, 1952, 1954, 1956, 1958, 1960, 1962, 1964, 1966, 1968, 1970, 1972, 1974, 1976, 1978, 1980, 1982, 1984, 1986, 1988, 1990, 1992, 1994, 1996, 1998, 2000, 2002, 2004, 2006, 2008, 2010, 2012, 2014, 2016, 2018, 2020, 2022, 2024, 2026, 2028, 2030, 2032, 2034, 2036, 2038, 2040, 2042, 2044, 2046, 2048, 2050, 2052, 2054, 2056, 2058, 2060, 2062, 2064, 2066, 2068, 2070, 2072, 2074, 2076, 2078, 2080, 2082, 2084, 2086, 2088, 2090, 2092, 2094, 2096, 2098, 2100, 2102, 2104, 2106, 2108, 2110, 2112, 2114, 2116, 2118, 2120, 2122, 2124, 2126, 2128, 2130, 2132, 2134, 2136, 2138, 2140, 2142, 2144, 2146, 2148, 2150, 2152, 2154, 2156, 2158, 2160, 2162, 2164, 2166, 2168, 2170, 2172, 2174, 2176, 2178, 2180, 2182, 2184, 2186, 2188, 2190, 2192, 2194, 2196, 2198, 2200, 2202, 2204, 2206, 2208, 2210, 2212, 2214, 2216, 2218, 2220, 2222, 2224, 2226, 2228, 2230, 2232, 2234, 2236, 2238, 2240, 2242, 2244, 2246, 2248, 2250, 2252, 2254, 2256, 2258, 2260, 2262, 2264, 2266, 2268, 2270, 2272, 2274, 2276, 2278, 2280, 2282, 2284, 2286, 2288, 2290, 2292, 2294, 2296, 2298, 2300, 2302, 2304, 2306, 2308, 2310, 2312, 2314, 2316, 2318, 2320, 2322, 2324, 2326, 2328, 2330, 2332, 2334, 2336, 2338, 2340, 2342, 2344, 2346, 2348, 2350, 2352, 2354, 2356, 2358, 2360, 2362, 2364, 2366, 2368, 2370, 2372, 2374, 2376, 2378, 2380, 2382, 2384, 2386, 2388, 2390, 2392, 2394, 2396, 2398, 2400, 2402, 2404, 2406, 2408, 2410, 2412, 2414, 2416, 2418, 2420, 2422, 2424, 2426, 2428, 2430, 2432, 2434, 2436, 2438, 2440, 2442, 2444, 2446, 2448, 2450, 2452, 2454, 2456, 2458, 2460, 2462, 2464, 2466, 2468, 2470, 2472, 2474, 2476, 2478, 2480, 2482, 2484, 2486, 2488, 2490, 2492, 2494, 2496, 2498, 2500, 2502, 2504, 2506, 2508, 2510, 2512, 2514, 2516, 2518, 2520, 2522, 2524, 2526, 2528, 2530, 2532, 2534, 2536, 2538, 2540, 2542, 2544, 2546, 2548, 2550, 2552, 2554, 2556, 2558, 2560, 2562, 2564, 2566, 2568, 2570, 2572, 2574, 2576, 2578, 2580, 2582, 2584, 2586, 2588, 2590, 2592, 2594, 2596, 2598, 2600, 2602, 2604, 2606, 2608, 2610, 2612, 2614, 2616, 2618, 2620, 2622, 2624, 2626, 2628, 2630, 2632, 2634, 2636, 2638, 2640, 2642, 2644, 2646, 2648, 2650, 2652, 2654, 2656, 2658, 2660, 2662, 2664, 2666, 2668, 2670, 2672, 2674, 2676, 2678, 2680, 2682, 2684, 2686, 2688, 2690, 2692, 2694, 2696, 2698, 2700, 2702, 2704, 2706, 2708, 2710, 2712, 2714, 2716, 2718, 2720, 2722, 2724, 2726, 2728, 2730, 2732, 2734, 2736, 2738, 2740, 2742, 2744, 2746, 2748, 2750, 2752, 2754, 2756, 2758, 2760, 2762, 2764, 2766, 2768, 2770, 2772, 2774, 2776, 2778, 2780, 2782, 2784, 2786, 2788, 2790, 2792, 2794, 2796, 2798, 2800, 2802, 2804, 2806, 2808, 2810, 2812, 2814, 2816, 2818, 2820, 2822, 2824, 2826, 2828, 2830, 2832, 2834, 2836, 2838, 2840, 2842, 2844, 2846, 2848, 2850, 2852, 2854, 2856, 2858, 2860, 2862, 2864, 2866, 2868, 2870, 2872, 2874, 2876, 2878, 2880, 2882, 2884, 2886, 2888, 2890, 2892, 2894, 2896, 2898, 2900, 2902, 2904, 2906, 2908, 2910, 2912, 2914, 2916, 2918, 2920, 2922, 2924, 2926, 2928, 2930, 2932, 2934, 2936, 2938, 2940, 2942, 2944, 2946, 2948, 2950, 2952, 2954, 2956, 2958, 2960, 2962, 2964, 2966, 2968, 2970, 2972, 2974, 2976, 2978, 2980, 2982, 2984, 2986, 2988, 2990, 2992, 2994, 2996, 2998]\n",
      "1000\n"
     ]
    }
   ],
   "source": [
    "def evn():\n",
    "    lists = []\n",
    "    l=0\n",
    "    for i in range(1000, 3000):\n",
    "        if i%2 == 0:\n",
    "            lists.append(i)\n",
    "            l = l + 1\n",
    "    print(lists)\n",
    "    print(l)\n",
    "evn()"
   ]
  },
  {
   "cell_type": "markdown",
   "metadata": {
    "id": "53N3iK03l1e2"
   },
   "source": [
    "#### Question 13  \n",
    "**Level 2**\n",
    "\n",
    "**Task:**  \n",
    "Write a program that counts the number of letters and digits in a given sentence. For example, if the input is:  \n",
    "`hello world! 123`  \n",
    "The output should be:  \n",
    "`LETTERS 10`  \n",
    "`DIGITS 3`"
   ]
  },
  {
   "cell_type": "code",
   "execution_count": 22,
   "metadata": {
    "id": "53N3iK03l1e2"
   },
   "outputs": [
    {
     "name": "stdin",
     "output_type": "stream",
     "text": [
      "Enter a sentence:  ljwfelkjklkldewkjljkk*(&*^&JKJop989898iojjknnmklklSASASDGFGH\n"
     ]
    },
    {
     "name": "stdout",
     "output_type": "stream",
     "text": [
      " LETTERS 48\n",
      " DIGITS 6\n"
     ]
    }
   ],
   "source": [
    "sentence1 = input(\"Enter a sentence: \")\n",
    "def counter1(sentence1):\n",
    "    alph = ['a', 'b', 'c', 'd', 'e', 'f', 'g', 'h', 'i', 'j', 'k', 'l', 'm', 'n', 'o', 'p', 'q', 'r', 's', 't', 'u', 'v', 'w', 'x', 'y', 'z', 'A', 'B', 'C', 'D', 'E', 'F', 'G', 'H', 'I', 'J', 'K', 'L', 'M', 'N', 'O', 'P', 'Q', 'R', 'S', 'T', 'U', 'V', 'W', 'X', 'Y', 'Z']\n",
    "    num = ['0', '1', '2', '3', '4', '5', '6', '7', '8', '9']\n",
    "    num1 = 0\n",
    "    num2 = 0\n",
    "    for i in sentence1:\n",
    "        if i in alph:\n",
    "            num1 = num1 + 1\n",
    "        elif i in num:\n",
    "            num2 = num2 + 1\n",
    "    print(f\" LETTERS {num1}\")\n",
    "    print(f\" DIGITS {num2}\")\n",
    "counter1(sentence1)    "
   ]
  },
  {
   "cell_type": "markdown",
   "metadata": {
    "id": "53N3iK03l1e2"
   },
   "source": [
    "#### Question 14  \n",
    "**Level 2**\n",
    "\n",
    "**Task:**  \n",
    "Create a program that counts and prints the number of uppercase and lowercase letters in a given sentence. For example, if the input is:  \n",
    "`Hello world!`  \n",
    "The output should be:  \n",
    "`UPPER CASE 1`  \n",
    "`LOWER CASE 9`"
   ]
  },
  {
   "cell_type": "code",
   "execution_count": 24,
   "metadata": {},
   "outputs": [
    {
     "name": "stdin",
     "output_type": "stream",
     "text": [
      "Enter a sentence:  lkjqdjkjkjkjkkjwqdkjTYWjkwe\n"
     ]
    },
    {
     "name": "stdout",
     "output_type": "stream",
     "text": [
      " UPPER CASE 24\n",
      " LOWER CASE 3\n"
     ]
    }
   ],
   "source": [
    "sentence2 = input(\"Enter a sentence: \")\n",
    "def counter2(sentence2):\n",
    "    low = \"abcdefghijklmnopqrstuvwxyz\"\n",
    "    up = \"ABCDEFGHIJKLMNOPQRSTUVWXYZ\"\n",
    "    num3 = 0\n",
    "    num4 = 0\n",
    "    for i in sentence2:\n",
    "        if i in low:\n",
    "            num3 = num3 + 1\n",
    "        elif i in up:\n",
    "            num4 = num4 + 1\n",
    "    print(f\" UPPER CASE {num3}\")\n",
    "    print(f\" LOWER CASE {num4}\")\n",
    "counter2(sentence2)   "
   ]
  },
  {
   "cell_type": "markdown",
   "metadata": {
    "id": "53N3iK03l1e2"
   },
   "source": [
    "#### Question 15  \n",
    "**Level 2**\n",
    "\n",
    "**Task:**  \n",
    "Write a program that calculates the value of `a + aa + aaa + aaaa` given a digit as the value of `a`. For example, if the input is:  \n",
    "`9`  \n",
    "The output should be:  \n",
    "`11106`"
   ]
  },
  {
   "cell_type": "code",
   "execution_count": 30,
   "metadata": {},
   "outputs": [
    {
     "name": "stdin",
     "output_type": "stream",
     "text": [
      "Enter an integer:  9\n"
     ]
    },
    {
     "name": "stdout",
     "output_type": "stream",
     "text": [
      "The sum is 11106\n"
     ]
    }
   ],
   "source": [
    "n = int(input(\"Enter an integer: \"))\n",
    "def summ(n):\n",
    "    st_r = str(n)\n",
    "    a1 = st_r + st_r \n",
    "    a2 = st_r + st_r + st_r \n",
    "    a3 = st_r + st_r + st_r + st_r\n",
    "    summ = int(st_r) + int(a1) + int(a2) + int(a3)\n",
    "    print(f\"The sum is {summ}\")\n",
    "summ(n)\n",
    "    "
   ]
  },
  {
   "cell_type": "markdown",
   "metadata": {
    "id": "53N3iK03l1e2"
   },
   "source": [
    "#### Question 16  \n",
    "**Level 2**\n",
    "\n",
    "**Task:**  \n",
    "Use a list comprehension to generate a list of squares for each odd number in a given sequence of comma-separated values. For example, if the input is:  \n",
    "`1,2,3,4,5,6,7,8,9`  \n",
    "The output should be:  \n",
    "`1,3,5,7,9`"
   ]
  },
  {
   "cell_type": "code",
   "execution_count": null,
   "metadata": {},
   "outputs": [],
   "source": []
  },
  {
   "cell_type": "markdown",
   "metadata": {
    "id": "53N3iK03l1e2"
   },
   "source": [
    "---\n",
    "\n",
    "#### Question 17  \n",
    "**Level 2**\n",
    "\n",
    "**Task:**  \n",
    "Create a program that calculates the net amount in a bank account based on a transaction log input. The log format is:  \n",
    "`D 100` (Deposit 100)  \n",
    "`W 200` (Withdraw 200)  \n",
    "Suppose the following input is provided:  \n",
    "`D 300`  \n",
    "`D 300`  \n",
    "`W 200`  \n",
    "`D 100`  \n",
    "The output should be:  \n",
    "`500`\n",
    "\n",
    "---\n",
    "\n",
    "#### Question 18  \n",
    "**Level 3**\n",
    "\n",
    "**Task:**  \n",
    "Write a program that checks the validity of passwords based on the following criteria:  \n",
    "1. At least one lowercase letter [a-z]  \n",
    "2. At least one digit [0-9]  \n",
    "3. At least one uppercase letter [A-Z]  \n",
    "4. At least one character from [$#@]  \n",
    "5. Minimum length of 6 characters  \n",
    "6. Maximum length of 12 characters  \n",
    "Input is provided as a sequence of comma-separated passwords. Valid passwords should be printed, separated by commas. For example, if the input is:  \n",
    "`ABd1234@1,a F1#,2w3E*,2We3345`  \n",
    "The output should be:  \n",
    "`ABd1234@1`\n",
    "\n",
    "---\n",
    "\n",
    "#### Question 19  \n",
    "**Level 3**\n",
    "\n",
    "**Task:**  \n",
    "Create a program that sorts a list of (name, age, height) tuples based on the following priority:  \n",
    "1. Name (alphabetically)  \n",
    "2. Age (numerically)  \n",
    "3. Height (numerically)  \n",
    "For example, if the input is:  \n",
    "`Tom,19,80`  \n",
    "`John,20,90`  \n",
    "`Jony,17,91`  \n",
    "`Jony,17,93`  \n",
    "`Json,21,85`  \n",
    "The output should be:  \n",
    "`[('John', '20', '90'), ('Jony', '17', '91'), ('Jony', '17', '93'), ('Json', '21', '85'), ('Tom', '19', '80')]`\n",
    "\n",
    "---\n",
    "\n",
    "#### Question 20  \n",
    "**Level 3**\n",
    "\n",
    "**Task:**  \n",
    "Define a class that includes a generator to yield numbers divisible by 7 within a given range from 0 to n.\n",
    "\n",
    "---\n",
    "\n",
    "#### Question 21  \n",
    "**Level 3**\n",
    "\n",
    "**Task:**  \n",
    "A robot moves on a grid starting from the origin\n",
    "\n",
    " point (0,0). It can move UP, DOWN, LEFT, or RIGHT by a specified number of steps. Write a program to calculate the distance from the current position to the origin after a series of movements. If the distance is a float, print the nearest integer. For example, if the input is:  \n",
    "`UP 5`  \n",
    "`DOWN 3`  \n",
    "`LEFT 3`  \n",
    "`RIGHT 2`  \n",
    "The output should be:  \n",
    "`2`\n",
    "\n",
    "---\n",
    "\n",
    "#### Question 22  \n",
    "**Level 3**\n",
    "\n",
    "**Task:**  \n",
    "Create a program to calculate the frequency of words from the input. Display the output with the keys sorted alphabetically. For example, if the input is:  \n",
    "`New to Python or choosing between Python 2 and Python 3? Read Python 2 or Python 3.`  \n",
    "The output should be:  \n",
    "`2:2`  \n",
    "`3.:1`  \n",
    "`3?:1`  \n",
    "`New:1`  \n",
    "`Python:5`  \n",
    "`Read:1`  \n",
    "`and:1`  \n",
    "`between:1`  \n",
    "`choosing:1`  \n",
    "`or:2`  \n",
    "`to:1`\n",
    "\n",
    "---\n",
    "\n",
    "#### Question 23  \n",
    "**Level 1**\n",
    "\n",
    "**Task:**  \n",
    "Create a function that calculates and returns the square of a given number.\n",
    "\n",
    "---\n",
    "\n",
    "#### Question 24  \n",
    "**Level 1**\n",
    "\n",
    "**Task:**  \n",
    "Python provides built-in documentation for each built-in function. Create a program that displays the documentation for `abs()`, `int()`, and `raw_input()`. Also, add documentation for a user-defined function.\n",
    "\n",
    "---\n",
    "\n",
    "#### Question 25  \n",
    "**Level 1**\n",
    "\n",
    "**Task:**  \n",
    "Define a class with both a class attribute and an instance attribute of the same name. Show the difference between the two by printing the class attribute and the instance attribute separately.\n",
    "\n",
    "---"
   ]
  }
 ],
 "metadata": {
  "colab": {
   "provenance": []
  },
  "kernelspec": {
   "display_name": "Python 3 (ipykernel)",
   "language": "python",
   "name": "python3"
  },
  "language_info": {
   "codemirror_mode": {
    "name": "ipython",
    "version": 3
   },
   "file_extension": ".py",
   "mimetype": "text/x-python",
   "name": "python",
   "nbconvert_exporter": "python",
   "pygments_lexer": "ipython3",
   "version": "3.12.4"
  }
 },
 "nbformat": 4,
 "nbformat_minor": 4
}
